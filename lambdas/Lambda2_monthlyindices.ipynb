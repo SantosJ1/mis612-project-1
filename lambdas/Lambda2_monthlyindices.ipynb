{
 "cells": [
  {
   "cell_type": "code",
   "execution_count": null,
   "metadata": {},
   "outputs": [],
   "source": [
    "import boto3\n",
    "import logging\n",
    "import os"
   ]
  },
  {
   "cell_type": "code",
   "execution_count": null,
   "metadata": {},
   "outputs": [],
   "source": [
    "\n",
    "def write_data_to_s3(file_name, bucket, object_name):\n",
    "    try:\n",
    "        session = boto3.session.Session()\n",
    "    finally: print(\"Session Established...\")\n",
    "    try:\n",
    "        s3 = session.resource(\"s3\")\n",
    "    finally: print(\"Connected to S3...\")\n",
    "    try:\n",
    "        print(\"Uploading file to s3...\")\n",
    "        result = s3.Bucket(bucket).upload_file(file_name,object_name)\n",
    "        print(\"File uploaded to s3.\")\n",
    "    except Exception as e:\n",
    "        raise e"
   ]
  },
  {
   "cell_type": "code",
   "execution_count": null,
   "metadata": {},
   "outputs": [],
   "source": [
    "def upload_file(file_name, bucket, object_name=None):\n",
    "    if object_name is None:\n",
    "        object_name=os.path.basename(file_name)\n",
    "    s3_client=boto3.client('s3')\n",
    "    try:\n",
    "        response=s3_client.upload_file(file_name, bucket, object_name)\n",
    "    except Exception as e:\n",
    "        logging.error(e)\n",
    "        return False\n",
    "    return True"
   ]
  },
  {
   "cell_type": "code",
   "execution_count": null,
   "metadata": {},
   "outputs": [],
   "source": [
    "result_upload=upload_file(\"C:\\\\Users\\\\eswar\\\\Downloads\\\\monthly_indices.xlsx\", \"s3boto3test1\", \"object_name=None\")\n",
    "if result_upload:\n",
    "    print(\"Data is uploaded to the S3 Bucket\")\n",
    "else:\n",
    "    print(\"Can't upload the file\")"
   ]
  },
  {
   "cell_type": "code",
   "execution_count": null,
   "metadata": {},
   "outputs": [],
   "source": []
  }
 ],
 "metadata": {
  "kernelspec": {
   "display_name": "Python 3.9.7 ('base')",
   "language": "python",
   "name": "python3"
  },
  "language_info": {
   "codemirror_mode": {
    "name": "ipython",
    "version": 3
   },
   "file_extension": ".py",
   "mimetype": "text/x-python",
   "name": "python",
   "nbconvert_exporter": "python",
   "pygments_lexer": "ipython3",
   "version": "3.9.7"
  },
  "orig_nbformat": 4,
  "vscode": {
   "interpreter": {
    "hash": "64d343b086cfda6bb1357f7f816cbc6991ba076d265f3e06a1bc996c7f0ee0f7"
   }
  }
 },
 "nbformat": 4,
 "nbformat_minor": 2
}
